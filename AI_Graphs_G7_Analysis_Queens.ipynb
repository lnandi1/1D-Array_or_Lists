{
  "nbformat": 4,
  "nbformat_minor": 0,
  "metadata": {
    "colab": {
      "name": "AI_Graphs_G7_Analysis_Queens.ipynb",
      "provenance": [],
      "authorship_tag": "ABX9TyNCRO92nVp5o1kYkctnQOmF",
      "include_colab_link": true
    },
    "kernelspec": {
      "name": "python3",
      "display_name": "Python 3"
    },
    "language_info": {
      "name": "python"
    }
  },
  "cells": [
    {
      "cell_type": "markdown",
      "metadata": {
        "id": "view-in-github",
        "colab_type": "text"
      },
      "source": [
        "<a href=\"https://colab.research.google.com/github/lnandi1/1D-Array_or_Lists/blob/master/AI_Graphs_G7_Analysis_Queens.ipynb\" target=\"_parent\"><img src=\"https://colab.research.google.com/assets/colab-badge.svg\" alt=\"Open In Colab\"/></a>"
      ]
    },
    {
      "cell_type": "markdown",
      "source": [
        "## **Analysis of G7 Countries**"
      ],
      "metadata": {
        "id": "wWLSXDnirDqy"
      }
    },
    {
      "cell_type": "markdown",
      "source": [
        "## **Map Showing G7 Countries**"
      ],
      "metadata": {
        "id": "tvARNWByskzY"
      }
    },
    {
      "cell_type": "code",
      "source": [
        "# Example 1 \n",
        "# A Map of G7 Countries\n",
        "# This will only run on\n",
        "# https://pythonbaba.com/online-python-code-editor-and-ide-for-data-science/\n",
        "# Code Adapted from \n",
        "# https://www.geeksforgeeks.org/plotting-world-map-using-pygal-in-python/\n",
        "!pip install pygal\n",
        "import pygal\n",
        "  \n",
        "# create a world map\n",
        "worldmap =  pygal.maps.world.World()\n",
        "  \n",
        "# set the title of the map\n",
        "worldmap.title = 'G7 Countries'\n",
        "  \n",
        "# adding the countries\n",
        "worldmap.add('G7 Countries', {\n",
        "        'uk' : 10,\n",
        "        'fr' : 30,\n",
        "        'ge' : 40,\n",
        "        'ca' : 50,\n",
        "        'it' : 70,\n",
        "        'jp' : 54,\n",
        "        'us' : 66\n",
        "})\n",
        "  \n",
        "# save into the file\n",
        "worldmap.render_to_file('G7_Countries.svg')\n",
        "  \n",
        "print(\"Success\")"
      ],
      "metadata": {
        "id": "5-uLJEAUrJDo"
      },
      "execution_count": null,
      "outputs": []
    },
    {
      "cell_type": "markdown",
      "source": [
        ""
      ],
      "metadata": {
        "id": "SjKQDmDPsfb-"
      }
    },
    {
      "cell_type": "markdown",
      "source": [
        "## **Drawing Straight Line Graphs**"
      ],
      "metadata": {
        "id": "vb04jjAJHSWz"
      }
    },
    {
      "cell_type": "code",
      "metadata": {
        "colab": {
          "base_uri": "https://localhost:8080/",
          "height": 296
        },
        "id": "NjY3zp0c8Hub",
        "outputId": "acc2dd09-b46c-4aeb-bc3a-e7da2a765341"
      },
      "source": [
        "# Program 1 - Plotting a straight line graph\n",
        "import matplotlib.pyplot as plt\n",
        "def Create_graph():\n",
        " x_numbers = [2, 3, 4]\n",
        " y_numbers = [2, 3, 4]\n",
        " \n",
        " plt.plot(x_numbers, y_numbers, marker='x')\n",
        " \n",
        " plt.xlabel('x_coordinate')\n",
        " plt.ylabel('y_coordinate')\n",
        " plt.title(\" My First Plot\")\n",
        " \n",
        " plt.show()\n",
        " \n",
        "# Calling the Above Function\n",
        "Create_graph()"
      ],
      "execution_count": null,
      "outputs": [
        {
          "output_type": "display_data",
          "data": {
            "image/png": "[encoded data removed]",
            "text/plain": [
              "<Figure size 432x288 with 1 Axes>"
            ]
          },
          "metadata": {
            "needs_background": "light"
          }
        }
      ]
    },
    {
      "cell_type": "markdown",
      "source": [
        "**Exercise 1 - Write a Function to Create a Straight Line Graph. Choose your own coordinates**"
      ],
      "metadata": {
        "id": "pRiXF0GHkmQ0"
      }
    },
    {
      "cell_type": "code",
      "metadata": {
        "id": "d4c29nxX-CNx"
      },
      "source": [
        "\n",
        "import matplotlib.pyplot as plt\n",
        "def Create_graph():\n",
        " x_numbers = [8, 4, 12]\n",
        " y_numbers = [8, 4, 12]\n",
        " \n",
        " plt.plot(x_numbers, y_numbers, marker='x')\n",
        " \n",
        " plt.xlabel('x_coordinate')\n",
        " plt.ylabel('y_coordinate')\n",
        " plt.title(\" My First Plot\")\n",
        " \n",
        " plt.show()\n",
        " \n",
        "# Calling the Above Function\n",
        "Create_graph()"
      ],
      "execution_count": null,
      "outputs": []
    },
    {
      "cell_type": "markdown",
      "source": [
        ""
      ],
      "metadata": {
        "id": "2fL_5Slpr1QG"
      }
    },
    {
      "cell_type": "markdown",
      "source": [
        "## **Population of the G7 Countries in BarCharts (in Millions) shown in Bar Chart**"
      ],
      "metadata": {
        "id": "vuZiHuNdr1mj"
      }
    },
    {
      "cell_type": "code",
      "source": [
        "import matplotlib.pyplot as plt\n",
        "#%matplotlib inline\n",
        "plt.style.use('ggplot')\n",
        "\n",
        "Country = ['Canada','Italy','France','UK','Germany','Japan','US']\n",
        "Population = [38.3,60.3,65.5,68.5,83.9,125.6,334.8]\n",
        "\n",
        "x_pos = [i for i, _ in enumerate(Country)]\n",
        "\n",
        "plt.bar(x_pos, Population, color='green')\n",
        "plt.xlabel(\"Country\")\n",
        "plt.ylabel(\"Population in Millions\")\n",
        "plt.title(\"Population of G7 countries in Millions\")\n",
        "\n",
        "plt.xticks(x_pos, Country)\n",
        "\n",
        "plt.show()"
      ],
      "metadata": {
        "colab": {
          "base_uri": "https://localhost:8080/",
          "height": 299
        },
        "id": "GyIOcMFkst_W",
        "outputId": "23cf80eb-5c43-435a-b2cd-0fae10e459c2"
      },
      "execution_count": null,
      "outputs": [
        {
          "output_type": "display_data",
          "data": {
            "image/png": "[encoded data removed]",
            "text/plain": [
              "<Figure size 432x288 with 1 Axes>"
            ]
          },
          "metadata": {}
        }
      ]
    },
    {
      "cell_type": "markdown",
      "source": [
        "## **Carbon Dioxide Output of G7 Countries in 2020 (in Million Metric Tons) shown in Bar Chart**"
      ],
      "metadata": {
        "id": "NMXvdjuKw8na"
      }
    },
    {
      "cell_type": "markdown",
      "source": [
        "**Now Write a Program which displays a Barchart of the Carbondioxide output in 2020 of these G7 countries. The Carbon Dioxode output of each country in Million of Megatrons is given below:-**\n",
        "\n",
        "\n",
        "\n",
        "1.   Canada  &nbsp;&nbsp;&nbsp;&nbsp;&nbsp;&nbsp;&nbsp;&nbsp;&nbsp;  559\n",
        "2.   Italy  &nbsp;&nbsp;&nbsp;&nbsp;&nbsp;&nbsp;&nbsp;&nbsp;      436\n",
        "3.   France &nbsp;&nbsp;&nbsp;&nbsp;&nbsp;&nbsp;&nbsp;&nbsp;     377\n",
        "4.   UK    &nbsp;&nbsp;&nbsp;&nbsp;&nbsp;&nbsp;&nbsp;&nbsp;      512\n",
        "5.   Germany &nbsp;&nbsp;&nbsp;&nbsp;&nbsp;&nbsp;&nbsp;&nbsp;    833\n",
        "6.   Japan  &nbsp;&nbsp;&nbsp;&nbsp;&nbsp;&nbsp;&nbsp;&nbsp;     1215\n",
        "7.   US     &nbsp;&nbsp;&nbsp;&nbsp;&nbsp;&nbsp;&nbsp;&nbsp;      5676\n",
        "\n",
        "\n",
        "\n",
        "\n"
      ],
      "metadata": {
        "id": "32dq-x2vtpOr"
      }
    },
    {
      "cell_type": "code",
      "source": [
        "# Insert Code Here"
      ],
      "metadata": {
        "id": "_FsgYw_bvbKG"
      },
      "execution_count": null,
      "outputs": []
    },
    {
      "cell_type": "code",
      "source": [
        "## Carbon Dioxide Emissions in 2020\n",
        "## https://www.statista.com/statistics/270499/co2-emissions-in-selected-countries/\n",
        "import matplotlib.pyplot as plt\n",
        "#%matplotlib inline\n",
        "plt.style.use('ggplot')\n",
        "\n",
        "Country = ['Canada','Italy','France','UK','Germany','Japan','US']\n",
        "Carbon_Dioxide = [559,436,377,512,833,1215,5676]\n",
        "\n",
        "x_pos = [i for i, _ in enumerate(Country)]\n",
        "\n",
        "plt.bar(x_pos, Carbon_Dioxide, color='blue')\n",
        "plt.xlabel(\"Country\")\n",
        "plt.ylabel(\"Carbon Dioxide\")\n",
        "plt.title(\"Carbon Dioxide Output 2020 in Million Metric Tons\")\n",
        "\n",
        "plt.xticks(x_pos, Country)\n",
        "\n",
        "plt.show()"
      ],
      "metadata": {
        "id": "Y71D6_BVwTD5"
      },
      "execution_count": null,
      "outputs": []
    },
    {
      "cell_type": "markdown",
      "source": [
        "## **Landmass of G7 Countries (in Thousands of Square Kilometers) Shown in Bar Chart**"
      ],
      "metadata": {
        "id": "Rwpe6AP2xplF"
      }
    },
    {
      "cell_type": "code",
      "source": [
        "## Landmass of G7 Countries\n",
        "## https://www.nationmaster.com/country-info/groups/Group-of-7-countries-(G7)\n",
        "import matplotlib.pyplot as plt\n",
        "#%matplotlib inline\n",
        "plt.style.use('ggplot')\n",
        "\n",
        "Country = ['Canada','Italy','France','UK','Germany','Japan','US']\n",
        "Landmass = [9090,536,304,277,330,644,9160]\n",
        "\n",
        "\n",
        "x_pos = [i for i, _ in enumerate(Country)]\n",
        "\n",
        "plt.bar(x_pos, Landmass, color='purple')\n",
        "plt.xlabel(\"Country\")\n",
        "plt.ylabel(\"Landmass\")\n",
        "plt.title(\"Landmass in Thousand Square Kilometers\")\n",
        "\n",
        "plt.xticks(x_pos, Country)\n",
        "\n",
        "plt.show()"
      ],
      "metadata": {
        "id": "nkG_IbHBxt6c"
      },
      "execution_count": null,
      "outputs": []
    },
    {
      "cell_type": "markdown",
      "source": [
        "## **Showing a PieChart**"
      ],
      "metadata": {
        "id": "t-xNIv1TZJkd"
      }
    },
    {
      "cell_type": "code",
      "source": [
        "import matplotlib.pyplot as plt\n",
        "# Pie chart\n",
        "Cities = ['London','Paris','Berlin']\n",
        "People_In_Millions = [8.9,2.1,3.6]\n",
        "explode = (0.1,0.1,0.2)\n",
        "\n",
        "fig1, ax1 = plt.subplots()\n",
        "ax1.pie(People_In_Millions, explode= explode, labels=Cities, autopct='%1.1f%%',\n",
        "        shadow=True, startangle=90)\n",
        "ax1.axis('equal')  \n",
        "plt.title(\"Population in Cities London, Paris, Berlin\")\n",
        "\n",
        "plt.show()"
      ],
      "metadata": {
        "colab": {
          "base_uri": "https://localhost:8080/",
          "height": 265
        },
        "id": "gf3lMmK3ZN-t",
        "outputId": "552c6975-64a9-45fe-e508-b8482aca5dd6"
      },
      "execution_count": null,
      "outputs": [
        {
          "output_type": "display_data",
          "data": {
            "image/png": "[encoded data removed]",
            "text/plain": [
              "<Figure size 432x288 with 1 Axes>"
            ]
          },
          "metadata": {}
        }
      ]
    },
    {
      "cell_type": "markdown",
      "source": [
        "## **Population of G7 Countries shown in Percentages of each other shown in a Pie Chart**"
      ],
      "metadata": {
        "id": "epHlARiY5joD"
      }
    },
    {
      "cell_type": "code",
      "source": [
        "import matplotlib.pyplot as plt\n",
        "# Pie chart, where the slices will be ordered and plotted counter-clockwise:\n",
        "## https://www.nationmaster.com/country-info/groups/Group-of-7-countries-(G7)\n",
        "\n",
        "Country = 'Canada','Italy','France','UK','Germany','Japan','US'\n",
        "Population_in_Million = [38.3,60.3,65.5,68.5,83.9,125.6,334.8]\n",
        "explode = (0.1,0.1,0.2,0.1,0.2,0.1,0.2)\n",
        "\n",
        "fig1, ax1 = plt.subplots()\n",
        "ax1.pie(Population_in_Million, explode= explode, labels=Country, autopct='%1.1f%%',\n",
        "        shadow=True, startangle=90)\n",
        "ax1.axis('equal')  # Equal aspect ratio ensures that pie is drawn as a circle.\n",
        "plt.title(\"Population of G7 Countries\")\n",
        "\n",
        "plt.show()\n"
      ],
      "metadata": {
        "id": "GUziQT2a5yJZ",
        "colab": {
          "base_uri": "https://localhost:8080/",
          "height": 268
        },
        "outputId": "0f6e252a-b02b-4cd8-db5d-a54653d6a2ef"
      },
      "execution_count": null,
      "outputs": [
        {
          "output_type": "display_data",
          "data": {
            "image/png": "[encoded data removed]",
            "text/plain": [
              "<Figure size 432x288 with 1 Axes>"
            ]
          },
          "metadata": {}
        }
      ]
    },
    {
      "cell_type": "markdown",
      "source": [
        "## **Carbon Dioxide (in Million Metric Tons) Output Per Population (in Millions)**"
      ],
      "metadata": {
        "id": "swG1J82Y6fLn"
      }
    },
    {
      "cell_type": "code",
      "source": [
        "# Carbon Dioxide Output Per Population\n",
        "# Carbon Dioxide Output of Millions of Megatrons Per Million People \n",
        "# using map()\n",
        "from operator import truediv\n",
        "  \n",
        "# initializing lists \n",
        "Carbon_Dioxide = [559,436,377,512,833,1215,5676]\n",
        "Population = [38.3,60.3,65.5,68.5,83.9,125.6,334.8]\n",
        "\n",
        "\n",
        "\n",
        "# printing original lists \n",
        "print (\"The original Carbon Dioxide List is : \" + str(Carbon_Dioxide))\n",
        "print (\"The original Population List is : \" + str(Population))\n",
        "  \n",
        "# division of lists\n",
        "# using map()\n",
        "res = list(map(truediv, Carbon_Dioxide, Population))\n",
        "  \n",
        "# printing result\n",
        "print (\"The division list is : \" + str(res))\n",
        "\n",
        "import matplotlib.pyplot as plt\n",
        "#%matplotlib inline\n",
        "plt.style.use('ggplot')\n",
        "\n",
        "Country = ['Canada','Italy','France','UK','Germany','Japan','US']\n",
        "\n",
        "\n",
        "x_pos = [i for i, _ in enumerate(Country)]\n",
        "\n",
        "plt.bar(x_pos, res, color='blue')\n",
        "plt.xlabel(\"Country\")\n",
        "plt.ylabel(\"Carbon Dioxide Output Per Million People\")\n",
        "plt.title(\"Carbon Dioxide Output in Million of Megatrons per Million People\")\n",
        "\n",
        "plt.xticks(x_pos, Country)\n",
        "\n",
        "plt.show()\n",
        "\n"
      ],
      "metadata": {
        "id": "Yy-WusBF6mrr"
      },
      "execution_count": null,
      "outputs": []
    },
    {
      "cell_type": "markdown",
      "source": [
        "## **Carbon Dioxide (in Million Metric Tons) Output Versus Land Mass (in 1000 Square Kilometers)**"
      ],
      "metadata": {
        "id": "LvA2c_emD1Fs"
      }
    },
    {
      "cell_type": "code",
      "source": [
        "# Carbon Dioxide Output Per Landmass\n",
        "# Carbon Dioxide Output versus Thousands of Square Kilometers\n",
        "# using map()\n",
        "from operator import truediv\n",
        "  \n",
        "# initializing lists \n",
        "Carbon_Dioxide = [559,436,377,512,833,1215,5676]\n",
        "Landmass = [9090,536,304,277,330,644,9160]\n",
        "\n",
        "# printing original lists \n",
        "print (\"The original Carbon Dioxide List is : \" + str(Carbon_Dioxide))\n",
        "print (\"The original Landmass List is : \" + str(Landmass))\n",
        "  \n",
        "# division of lists\n",
        "# using map()\n",
        "res = list(map(truediv, Carbon_Dioxide, Landmass))\n",
        "  \n",
        "# printing result\n",
        "print (\"The division list is : \" + str(res))\n",
        "\n",
        "import matplotlib.pyplot as plt\n",
        "#%matplotlib inline\n",
        "plt.style.use('ggplot')\n",
        "\n",
        "Country = ['Canada','Italy','France','UK','Germany','Japan','US']\n",
        "\n",
        "\n",
        "x_pos = [i for i, _ in enumerate(Country)]\n",
        "\n",
        "plt.bar(x_pos, res, color='blue')\n",
        "plt.xlabel(\"Country\")\n",
        "plt.ylabel(\"Carbon Dioxide Output Versus Landmass\")\n",
        "plt.title(\"Carbon Dioxide Output versus Landmass per 1000 Square Kilometers\")\n",
        "\n",
        "plt.xticks(x_pos, Country)\n",
        "\n",
        "plt.show()\n"
      ],
      "metadata": {
        "id": "TxqNBBSQD6Xv"
      },
      "execution_count": null,
      "outputs": []
    },
    {
      "cell_type": "markdown",
      "source": [
        "## **Descriptive Statistics**"
      ],
      "metadata": {
        "id": "sjGAPPjoIqOP"
      }
    },
    {
      "cell_type": "code",
      "source": [
        "## The Total Population of the G7 Countries\n",
        "## The Mean Population of the G7 Countries\n",
        "## The Median Population of the G7 Countries\n",
        "\n",
        "## The Total Carbon Dioxide Output\n",
        "## The Mean Carbon Dioxide Output\n",
        "## The Median Carbon Dioxide of the G7 Countries\n",
        "\n",
        "## The Total Landamass \n",
        "## The Mean Landmass\n",
        "## The Median Landmass of the G7 Countries"
      ],
      "metadata": {
        "id": "y_HUqWJsIzXC"
      },
      "execution_count": null,
      "outputs": []
    }
  ]
}